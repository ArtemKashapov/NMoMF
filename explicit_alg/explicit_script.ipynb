{
 "cells": [
  {
   "cell_type": "code",
   "execution_count": 1,
   "id": "7d3a6d11",
   "metadata": {},
   "outputs": [],
   "source": [
    "import numpy as np, matplotlib.pyplot as plt\n",
    "from math import pi"
   ]
  },
  {
   "cell_type": "markdown",
   "id": "c28261b4",
   "metadata": {},
   "source": [
    "Параметры заданные преподавателем:\n",
    "\n",
    "$$ c = 1,65 $$\n",
    "$$ k = 0,59 $$\n",
    "$$ R = 5 $$\n",
    "$$ u_c = 0 $$\n",
    "$$ l = 0,5 $$\n",
    "$$ \\alpha = 0,003 $$\n",
    "$$ T = 40 $$\n",
    "$$ \\psi(\\theta) = u_c + cos^4 (\\theta) $$"
   ]
  },
  {
   "cell_type": "code",
   "execution_count": 3,
   "id": "d22b7464",
   "metadata": {},
   "outputs": [],
   "source": [
    "c = 1.65\n",
    "k = 0.59\n",
    "R = 5\n",
    "uc = 0\n",
    "l = 0.5\n",
    "alpha = 0.003\n",
    "T = 40\n",
    "\n",
    "def psi(theta):\n",
    "    return uc + np.cos(theta) ** 4\n",
    "\n",
    "I = 1024\n",
    "K = 1024\n",
    "t = np.linspace(0, T, I + 1)\n",
    "tht = np.linspace(0.001, pi-0.001, K + 1)"
   ]
  },
  {
   "cell_type": "code",
   "execution_count": null,
   "id": "0911724b",
   "metadata": {},
   "outputs": [],
   "source": []
  }
 ],
 "metadata": {
  "kernelspec": {
   "display_name": "Python 3 (ipykernel)",
   "language": "python",
   "name": "python3"
  },
  "language_info": {
   "codemirror_mode": {
    "name": "ipython",
    "version": 3
   },
   "file_extension": ".py",
   "mimetype": "text/x-python",
   "name": "python",
   "nbconvert_exporter": "python",
   "pygments_lexer": "ipython3",
   "version": "3.9.7"
  }
 },
 "nbformat": 4,
 "nbformat_minor": 5
}
